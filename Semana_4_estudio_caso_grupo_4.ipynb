{
 "cells": [
  {
   "cell_type": "markdown",
   "metadata": {
    "id": "FQy-RI_iOsaY"
   },
   "source": [
    "# Estudio de caso\n",
    "Grupo 4\n",
    "\n",
    "\n",
    "César Enrique Morán Fernández   --    Gloria Stella Flórez Merchán   --     Leidy Nayibe Párraga Ariza\n",
    "\n",
    "Se presenta un dataset de nombres de peliculas con sus respetivos genero, actores principales, calificaciones, popularidad entre otros.\n",
    "\n",
    "Se requiere integrar y tranformar los datos necesarios para poder medir el impacto que tienen los actores principales al momento de evaluar la popularidad y la calificación de la pelicula.\n",
    "\n",
    "El estudio de caso consiste en que describa en forma detallada el proceso como llegó a medir el impacto que tienen los actores principales en el exito de una pelicula"
   ]
  },
  {
   "cell_type": "code",
   "execution_count": 33,
   "metadata": {
    "id": "gpMfu_wQQ5mY"
   },
   "outputs": [],
   "source": [
    "import pandas as pd\n",
    "import numpy as np\n",
    "import matplotlib.pyplot as plt\n",
    "from scipy import stats"
   ]
  },
  {
   "cell_type": "code",
   "execution_count": 34,
   "metadata": {
    "id": "qKiFWvXnRIbP"
   },
   "outputs": [
    {
     "name": "stdout",
     "output_type": "stream",
     "text": [
      "Tamaño del dataset: 129891\n"
     ]
    }
   ],
   "source": [
    "df_movies = pd.read_csv(\"IMBD.csv\")\n",
    "print(f'Tamaño del dataset: {len(df_movies)}')"
   ]
  },
  {
   "cell_type": "code",
   "execution_count": 35,
   "metadata": {
    "id": "7nh9LWGxSKgL"
   },
   "outputs": [
    {
     "data": {
      "text/html": [
       "<div>\n",
       "<style scoped>\n",
       "    .dataframe tbody tr th:only-of-type {\n",
       "        vertical-align: middle;\n",
       "    }\n",
       "\n",
       "    .dataframe tbody tr th {\n",
       "        vertical-align: top;\n",
       "    }\n",
       "\n",
       "    .dataframe thead th {\n",
       "        text-align: right;\n",
       "    }\n",
       "</style>\n",
       "<table border=\"1\" class=\"dataframe\">\n",
       "  <thead>\n",
       "    <tr style=\"text-align: right;\">\n",
       "      <th></th>\n",
       "      <th>movie</th>\n",
       "      <th>genre</th>\n",
       "      <th>runtime</th>\n",
       "      <th>certificate</th>\n",
       "      <th>rating</th>\n",
       "      <th>stars</th>\n",
       "      <th>description</th>\n",
       "      <th>votes</th>\n",
       "      <th>director</th>\n",
       "    </tr>\n",
       "  </thead>\n",
       "  <tbody>\n",
       "    <tr>\n",
       "      <th>108733</th>\n",
       "      <td>SK8 TV</td>\n",
       "      <td>Reality-TV, Sport</td>\n",
       "      <td>NaN</td>\n",
       "      <td>NaN</td>\n",
       "      <td>7.9</td>\n",
       "      <td>['Matthew Lillard, ', 'Samuel Ringoir, ', 'Ska...</td>\n",
       "      <td>The start of professional skateboarding, xgame...</td>\n",
       "      <td>38</td>\n",
       "      <td>NaN</td>\n",
       "    </tr>\n",
       "    <tr>\n",
       "      <th>22696</th>\n",
       "      <td>Die Schelme von Schelm</td>\n",
       "      <td>Animation, Family, Comedy</td>\n",
       "      <td>79 min</td>\n",
       "      <td>NaN</td>\n",
       "      <td>5.0</td>\n",
       "      <td>['Tommy J. Michaels, ', 'Ronn Carroll, ', 'Tov...</td>\n",
       "      <td>When God distributed wiseness and foolishness ...</td>\n",
       "      <td>173</td>\n",
       "      <td>['Albert Hanan Kaminski']</td>\n",
       "    </tr>\n",
       "    <tr>\n",
       "      <th>91992</th>\n",
       "      <td>A Southern Maid</td>\n",
       "      <td>Drama, Musical, Romance</td>\n",
       "      <td>83 min</td>\n",
       "      <td>NaN</td>\n",
       "      <td>7.2</td>\n",
       "      <td>['Bebe Daniels, ', 'Clifford Mollison, ', 'Nan...</td>\n",
       "      <td>A Southern Maid is a 1933 British musical film...</td>\n",
       "      <td>17</td>\n",
       "      <td>['Harry Hughes']</td>\n",
       "    </tr>\n",
       "    <tr>\n",
       "      <th>17172</th>\n",
       "      <td>Breadwinners</td>\n",
       "      <td>Animation, Comedy, Family</td>\n",
       "      <td>NaN</td>\n",
       "      <td>NaN</td>\n",
       "      <td>2.7</td>\n",
       "      <td>['Robbie Daymond, ', 'Eric Bauza, ', 'Alexande...</td>\n",
       "      <td>Two ducks fly around in a rocket-powered van, ...</td>\n",
       "      <td>3,752</td>\n",
       "      <td>NaN</td>\n",
       "    </tr>\n",
       "    <tr>\n",
       "      <th>97919</th>\n",
       "      <td>Hysteria</td>\n",
       "      <td>Drama, Sci-Fi, Thriller</td>\n",
       "      <td>103 min</td>\n",
       "      <td>NaN</td>\n",
       "      <td>5.2</td>\n",
       "      <td>['Patrick McGoohan, ', 'Amanda Plummer, ', 'Mi...</td>\n",
       "      <td>The inmates of an insane asylum are subjected ...</td>\n",
       "      <td>326</td>\n",
       "      <td>['Rene Daalder']</td>\n",
       "    </tr>\n",
       "    <tr>\n",
       "      <th>11505</th>\n",
       "      <td>Lost Ollie</td>\n",
       "      <td>Animation, Adventure, Drama</td>\n",
       "      <td>45 min</td>\n",
       "      <td>UA 7+</td>\n",
       "      <td>7.8</td>\n",
       "      <td>['Jake Johnson, ', 'Gina Rodriguez, ', 'Kesler...</td>\n",
       "      <td>A lost toy, searching across the countryside f...</td>\n",
       "      <td>1,769</td>\n",
       "      <td>NaN</td>\n",
       "    </tr>\n",
       "    <tr>\n",
       "      <th>85201</th>\n",
       "      <td>JIMBO: Free and Horny (RuPaul's Drag Race Seas...</td>\n",
       "      <td>Music</td>\n",
       "      <td>NaN</td>\n",
       "      <td>NaN</td>\n",
       "      <td>NaN</td>\n",
       "      <td>['James Jimbo Insell, ', 'Manila Luzon, ', 'Ry...</td>\n",
       "      <td>Add a Plot\\n</td>\n",
       "      <td>NaN</td>\n",
       "      <td>['Brad Hammer']</td>\n",
       "    </tr>\n",
       "    <tr>\n",
       "      <th>47054</th>\n",
       "      <td>The Show Must Go On: The Queen + Adam Lambert ...</td>\n",
       "      <td>Documentary</td>\n",
       "      <td>86 min</td>\n",
       "      <td>NaN</td>\n",
       "      <td>7.8</td>\n",
       "      <td>['Freddie Mercury, ', 'Queen, ', 'Rami Malek, ...</td>\n",
       "      <td>A documentary chronicling Queen and Lambert's ...</td>\n",
       "      <td>2,290</td>\n",
       "      <td>NaN</td>\n",
       "    </tr>\n",
       "    <tr>\n",
       "      <th>22927</th>\n",
       "      <td>Dickinson</td>\n",
       "      <td>Biography, Comedy, Drama</td>\n",
       "      <td>30 min</td>\n",
       "      <td>A</td>\n",
       "      <td>7.7</td>\n",
       "      <td>['Hailee Steinfeld, ', 'Adrian Enscoe, ', 'Ann...</td>\n",
       "      <td>Set in the 19th century, it explores the const...</td>\n",
       "      <td>18,141</td>\n",
       "      <td>NaN</td>\n",
       "    </tr>\n",
       "    <tr>\n",
       "      <th>78477</th>\n",
       "      <td>Travis Scott Feat. Drake: Sicko Mode</td>\n",
       "      <td>Music</td>\n",
       "      <td>5 min</td>\n",
       "      <td>NaN</td>\n",
       "      <td>7.6</td>\n",
       "      <td>['Travis Scott, ', 'Drake, ', 'Dolly Gray, ', ...</td>\n",
       "      <td>Music Video for Travis Scott's Sicko Mode.</td>\n",
       "      <td>314</td>\n",
       "      <td>NaN</td>\n",
       "    </tr>\n",
       "  </tbody>\n",
       "</table>\n",
       "</div>"
      ],
      "text/plain": [
       "                                                    movie  \\\n",
       "108733                                             SK8 TV   \n",
       "22696                              Die Schelme von Schelm   \n",
       "91992                                     A Southern Maid   \n",
       "17172                                        Breadwinners   \n",
       "97919                                            Hysteria   \n",
       "11505                                          Lost Ollie   \n",
       "85201   JIMBO: Free and Horny (RuPaul's Drag Race Seas...   \n",
       "47054   The Show Must Go On: The Queen + Adam Lambert ...   \n",
       "22927                                           Dickinson   \n",
       "78477                Travis Scott Feat. Drake: Sicko Mode   \n",
       "\n",
       "                                          genre  runtime certificate  rating  \\\n",
       "108733            Reality-TV, Sport                  NaN         NaN     7.9   \n",
       "22696     Animation, Family, Comedy               79 min         NaN     5.0   \n",
       "91992       Drama, Musical, Romance               83 min         NaN     7.2   \n",
       "17172     Animation, Comedy, Family                  NaN         NaN     2.7   \n",
       "97919       Drama, Sci-Fi, Thriller              103 min         NaN     5.2   \n",
       "11505   Animation, Adventure, Drama               45 min       UA 7+     7.8   \n",
       "85201                         Music                  NaN         NaN     NaN   \n",
       "47054                   Documentary               86 min         NaN     7.8   \n",
       "22927      Biography, Comedy, Drama               30 min           A     7.7   \n",
       "78477                         Music                5 min         NaN     7.6   \n",
       "\n",
       "                                                    stars  \\\n",
       "108733  ['Matthew Lillard, ', 'Samuel Ringoir, ', 'Ska...   \n",
       "22696   ['Tommy J. Michaels, ', 'Ronn Carroll, ', 'Tov...   \n",
       "91992   ['Bebe Daniels, ', 'Clifford Mollison, ', 'Nan...   \n",
       "17172   ['Robbie Daymond, ', 'Eric Bauza, ', 'Alexande...   \n",
       "97919   ['Patrick McGoohan, ', 'Amanda Plummer, ', 'Mi...   \n",
       "11505   ['Jake Johnson, ', 'Gina Rodriguez, ', 'Kesler...   \n",
       "85201   ['James Jimbo Insell, ', 'Manila Luzon, ', 'Ry...   \n",
       "47054   ['Freddie Mercury, ', 'Queen, ', 'Rami Malek, ...   \n",
       "22927   ['Hailee Steinfeld, ', 'Adrian Enscoe, ', 'Ann...   \n",
       "78477   ['Travis Scott, ', 'Drake, ', 'Dolly Gray, ', ...   \n",
       "\n",
       "                                              description   votes  \\\n",
       "108733  The start of professional skateboarding, xgame...      38   \n",
       "22696   When God distributed wiseness and foolishness ...     173   \n",
       "91992   A Southern Maid is a 1933 British musical film...      17   \n",
       "17172   Two ducks fly around in a rocket-powered van, ...   3,752   \n",
       "97919   The inmates of an insane asylum are subjected ...     326   \n",
       "11505   A lost toy, searching across the countryside f...   1,769   \n",
       "85201                                        Add a Plot\\n     NaN   \n",
       "47054   A documentary chronicling Queen and Lambert's ...   2,290   \n",
       "22927   Set in the 19th century, it explores the const...  18,141   \n",
       "78477          Music Video for Travis Scott's Sicko Mode.     314   \n",
       "\n",
       "                         director  \n",
       "108733                        NaN  \n",
       "22696   ['Albert Hanan Kaminski']  \n",
       "91992            ['Harry Hughes']  \n",
       "17172                         NaN  \n",
       "97919            ['Rene Daalder']  \n",
       "11505                         NaN  \n",
       "85201             ['Brad Hammer']  \n",
       "47054                         NaN  \n",
       "22927                         NaN  \n",
       "78477                         NaN  "
      ]
     },
     "execution_count": 35,
     "metadata": {},
     "output_type": "execute_result"
    }
   ],
   "source": [
    "# visualización de una muestra de 10 peliculas\n",
    "df_movies.sample(10)"
   ]
  },
  {
   "cell_type": "code",
   "execution_count": 36,
   "metadata": {
    "id": "vfT20o8CSsgP"
   },
   "outputs": [],
   "source": [
    "# Ingrese en la lista las columnas necesarias para el caso de estudio:\n",
    "columns = ['movie', 'stars', 'rating', 'votes']"
   ]
  },
  {
   "cell_type": "code",
   "execution_count": 37,
   "metadata": {
    "id": "uEKb0aN2VQzk"
   },
   "outputs": [
    {
     "data": {
      "text/html": [
       "<div>\n",
       "<style scoped>\n",
       "    .dataframe tbody tr th:only-of-type {\n",
       "        vertical-align: middle;\n",
       "    }\n",
       "\n",
       "    .dataframe tbody tr th {\n",
       "        vertical-align: top;\n",
       "    }\n",
       "\n",
       "    .dataframe thead th {\n",
       "        text-align: right;\n",
       "    }\n",
       "</style>\n",
       "<table border=\"1\" class=\"dataframe\">\n",
       "  <thead>\n",
       "    <tr style=\"text-align: right;\">\n",
       "      <th></th>\n",
       "      <th>movie</th>\n",
       "      <th>stars</th>\n",
       "      <th>rating</th>\n",
       "      <th>votes</th>\n",
       "    </tr>\n",
       "  </thead>\n",
       "  <tbody>\n",
       "    <tr>\n",
       "      <th>46845</th>\n",
       "      <td>Wilde Salomé</td>\n",
       "      <td>['Al Pacino, ', 'Jessica Chastain, ', 'Kevin A...</td>\n",
       "      <td>6.6</td>\n",
       "      <td>993</td>\n",
       "    </tr>\n",
       "    <tr>\n",
       "      <th>121666</th>\n",
       "      <td>The Colorado KId</td>\n",
       "      <td>['Bob Steele, ', 'Marion Weldon, ', 'Karl Hack...</td>\n",
       "      <td>5.9</td>\n",
       "      <td>68</td>\n",
       "    </tr>\n",
       "    <tr>\n",
       "      <th>9868</th>\n",
       "      <td>Gekijouban Naruto Shippuuden: Za rosuto tawâ</td>\n",
       "      <td>['Junko Takeuchi, ', 'Chie Nakamura, ', 'Satos...</td>\n",
       "      <td>6.8</td>\n",
       "      <td>4,062</td>\n",
       "    </tr>\n",
       "    <tr>\n",
       "      <th>72789</th>\n",
       "      <td>Strangeland</td>\n",
       "      <td>['Kevin Gage, ', 'Elizabeth Peña, ', 'Dee Snid...</td>\n",
       "      <td>5.0</td>\n",
       "      <td>$0.63M</td>\n",
       "    </tr>\n",
       "    <tr>\n",
       "      <th>94893</th>\n",
       "      <td>Big Love</td>\n",
       "      <td>['Aleksandra Hamkalo, ', 'Antoni Pawlicki, ', ...</td>\n",
       "      <td>5.3</td>\n",
       "      <td>1,054</td>\n",
       "    </tr>\n",
       "    <tr>\n",
       "      <th>49322</th>\n",
       "      <td>Grand Designs: The Streets</td>\n",
       "      <td>NaN</td>\n",
       "      <td>8.6</td>\n",
       "      <td>27</td>\n",
       "    </tr>\n",
       "    <tr>\n",
       "      <th>68082</th>\n",
       "      <td>Sofies verden</td>\n",
       "      <td>['Silje Storstein, ', 'Tomas von Brömssen, ', ...</td>\n",
       "      <td>6.7</td>\n",
       "      <td>108</td>\n",
       "    </tr>\n",
       "    <tr>\n",
       "      <th>119867</th>\n",
       "      <td>A Flame to the Phoenix</td>\n",
       "      <td>['Benedict Taylor, ', 'Lucy Hornak, ', 'David ...</td>\n",
       "      <td>5.9</td>\n",
       "      <td>18</td>\n",
       "    </tr>\n",
       "    <tr>\n",
       "      <th>111481</th>\n",
       "      <td>WWE Backlash</td>\n",
       "      <td>['Adam Copeland, ', 'Randy Orton, ', 'Drew Gal...</td>\n",
       "      <td>6.2</td>\n",
       "      <td>231</td>\n",
       "    </tr>\n",
       "    <tr>\n",
       "      <th>112451</th>\n",
       "      <td>Dream Job</td>\n",
       "      <td>['Michael Magid, ', 'Kit Hoover, ', 'Stuart Sc...</td>\n",
       "      <td>6.9</td>\n",
       "      <td>25</td>\n",
       "    </tr>\n",
       "  </tbody>\n",
       "</table>\n",
       "</div>"
      ],
      "text/plain": [
       "                                               movie  \\\n",
       "46845                                   Wilde Salomé   \n",
       "121666                              The Colorado KId   \n",
       "9868    Gekijouban Naruto Shippuuden: Za rosuto tawâ   \n",
       "72789                                    Strangeland   \n",
       "94893                                       Big Love   \n",
       "49322                     Grand Designs: The Streets   \n",
       "68082                                  Sofies verden   \n",
       "119867                        A Flame to the Phoenix   \n",
       "111481                                  WWE Backlash   \n",
       "112451                                     Dream Job   \n",
       "\n",
       "                                                    stars  rating   votes  \n",
       "46845   ['Al Pacino, ', 'Jessica Chastain, ', 'Kevin A...     6.6     993  \n",
       "121666  ['Bob Steele, ', 'Marion Weldon, ', 'Karl Hack...     5.9      68  \n",
       "9868    ['Junko Takeuchi, ', 'Chie Nakamura, ', 'Satos...     6.8   4,062  \n",
       "72789   ['Kevin Gage, ', 'Elizabeth Peña, ', 'Dee Snid...     5.0  $0.63M  \n",
       "94893   ['Aleksandra Hamkalo, ', 'Antoni Pawlicki, ', ...     5.3   1,054  \n",
       "49322                                                 NaN     8.6      27  \n",
       "68082   ['Silje Storstein, ', 'Tomas von Brömssen, ', ...     6.7     108  \n",
       "119867  ['Benedict Taylor, ', 'Lucy Hornak, ', 'David ...     5.9      18  \n",
       "111481  ['Adam Copeland, ', 'Randy Orton, ', 'Drew Gal...     6.2     231  \n",
       "112451  ['Michael Magid, ', 'Kit Hoover, ', 'Stuart Sc...     6.9      25  "
      ]
     },
     "execution_count": 37,
     "metadata": {},
     "output_type": "execute_result"
    }
   ],
   "source": [
    "# Guarde el datset, con solo las columnas necesarias, ej:\n",
    "# df_movies = df_movies[columns].copy()\n",
    "df_movies = df_movies[columns].copy()\n",
    "df_movies.sample(10)"
   ]
  },
  {
   "cell_type": "markdown",
   "metadata": {
    "id": "ol1tPxcNQ7xG"
   },
   "source": [
    "### Imports\n",
    "Librerias base que se necesitan, puede incluir más de ser necesario"
   ]
  },
  {
   "cell_type": "markdown",
   "metadata": {
    "id": "N47EwIVjRJe7"
   },
   "source": [
    "## Descarga de dataset\n",
    "Tomado de Kaggle: [TV & Movie Metadata with Genres and Ratings (2023)](https://www.kaggle.com/datasets/gayu14/tv-and-movie-metadata-with-genres-and-ratings-imbd)\\\n",
    "Alojado en datalake Bucket de S3 de AWS"
   ]
  },
  {
   "cell_type": "markdown",
   "metadata": {
    "id": "uZn23cV4TuM7"
   },
   "source": [
    "Primero que todo identifique las columnas que nos interesan para el estudio de caso.\n",
    "- Recuerde que para medir el impacto que tienen los actores en el exito de la pelicula nos vamos a basar en la popularidad y la calificación."
   ]
  },
  {
   "cell_type": "code",
   "execution_count": 38,
   "metadata": {
    "id": "yws7UA22X4-M"
   },
   "outputs": [
    {
     "data": {
      "text/html": [
       "<div>\n",
       "<style scoped>\n",
       "    .dataframe tbody tr th:only-of-type {\n",
       "        vertical-align: middle;\n",
       "    }\n",
       "\n",
       "    .dataframe tbody tr th {\n",
       "        vertical-align: top;\n",
       "    }\n",
       "\n",
       "    .dataframe thead th {\n",
       "        text-align: right;\n",
       "    }\n",
       "</style>\n",
       "<table border=\"1\" class=\"dataframe\">\n",
       "  <thead>\n",
       "    <tr style=\"text-align: right;\">\n",
       "      <th></th>\n",
       "      <th>movie</th>\n",
       "      <th>stars</th>\n",
       "      <th>rating</th>\n",
       "      <th>votes</th>\n",
       "    </tr>\n",
       "  </thead>\n",
       "  <tbody>\n",
       "    <tr>\n",
       "      <th>count</th>\n",
       "      <td>129891</td>\n",
       "      <td>124676</td>\n",
       "      <td>114381.000000</td>\n",
       "      <td>114393</td>\n",
       "    </tr>\n",
       "    <tr>\n",
       "      <th>unique</th>\n",
       "      <td>115988</td>\n",
       "      <td>120278</td>\n",
       "      <td>NaN</td>\n",
       "      <td>18664</td>\n",
       "    </tr>\n",
       "    <tr>\n",
       "      <th>top</th>\n",
       "      <td>Royal Rumble</td>\n",
       "      <td>['Mel Blanc', '']</td>\n",
       "      <td>NaN</td>\n",
       "      <td>10</td>\n",
       "    </tr>\n",
       "    <tr>\n",
       "      <th>freq</th>\n",
       "      <td>22</td>\n",
       "      <td>51</td>\n",
       "      <td>NaN</td>\n",
       "      <td>667</td>\n",
       "    </tr>\n",
       "    <tr>\n",
       "      <th>mean</th>\n",
       "      <td>NaN</td>\n",
       "      <td>NaN</td>\n",
       "      <td>6.521429</td>\n",
       "      <td>NaN</td>\n",
       "    </tr>\n",
       "    <tr>\n",
       "      <th>std</th>\n",
       "      <td>NaN</td>\n",
       "      <td>NaN</td>\n",
       "      <td>1.334240</td>\n",
       "      <td>NaN</td>\n",
       "    </tr>\n",
       "    <tr>\n",
       "      <th>min</th>\n",
       "      <td>NaN</td>\n",
       "      <td>NaN</td>\n",
       "      <td>1.000000</td>\n",
       "      <td>NaN</td>\n",
       "    </tr>\n",
       "    <tr>\n",
       "      <th>25%</th>\n",
       "      <td>NaN</td>\n",
       "      <td>NaN</td>\n",
       "      <td>5.800000</td>\n",
       "      <td>NaN</td>\n",
       "    </tr>\n",
       "    <tr>\n",
       "      <th>50%</th>\n",
       "      <td>NaN</td>\n",
       "      <td>NaN</td>\n",
       "      <td>6.700000</td>\n",
       "      <td>NaN</td>\n",
       "    </tr>\n",
       "    <tr>\n",
       "      <th>75%</th>\n",
       "      <td>NaN</td>\n",
       "      <td>NaN</td>\n",
       "      <td>7.400000</td>\n",
       "      <td>NaN</td>\n",
       "    </tr>\n",
       "    <tr>\n",
       "      <th>max</th>\n",
       "      <td>NaN</td>\n",
       "      <td>NaN</td>\n",
       "      <td>10.000000</td>\n",
       "      <td>NaN</td>\n",
       "    </tr>\n",
       "  </tbody>\n",
       "</table>\n",
       "</div>"
      ],
      "text/plain": [
       "               movie              stars         rating   votes\n",
       "count         129891             124676  114381.000000  114393\n",
       "unique        115988             120278            NaN   18664\n",
       "top     Royal Rumble  ['Mel Blanc', '']            NaN      10\n",
       "freq              22                 51            NaN     667\n",
       "mean             NaN                NaN       6.521429     NaN\n",
       "std              NaN                NaN       1.334240     NaN\n",
       "min              NaN                NaN       1.000000     NaN\n",
       "25%              NaN                NaN       5.800000     NaN\n",
       "50%              NaN                NaN       6.700000     NaN\n",
       "75%              NaN                NaN       7.400000     NaN\n",
       "max              NaN                NaN      10.000000     NaN"
      ]
     },
     "execution_count": 38,
     "metadata": {},
     "output_type": "execute_result"
    }
   ],
   "source": [
    "# Descripción del dataframe\n",
    "df_movies.describe(include='all')"
   ]
  },
  {
   "cell_type": "markdown",
   "metadata": {
    "id": "G1i4MjbFYxkX"
   },
   "source": [
    "### Elimine datos faltantes\n",
    "Con la ayuda de la función DataFrame.dropna elimine los valores NAN, no nos interesan las peliculas que tienen datos faltantes en nuestrtas columnas importantes"
   ]
  },
  {
   "cell_type": "code",
   "execution_count": 39,
   "metadata": {
    "id": "oxfcyggLVvWL"
   },
   "outputs": [],
   "source": [
    "df_movies = df_movies.dropna()"
   ]
  },
  {
   "cell_type": "markdown",
   "metadata": {
    "id": "vHFv8076Y_0M"
   },
   "source": [
    "## Tipos de datos"
   ]
  },
  {
   "cell_type": "code",
   "execution_count": 40,
   "metadata": {
    "id": "Bhifca38W8_K"
   },
   "outputs": [
    {
     "data": {
      "text/plain": [
       "movie      object\n",
       "stars      object\n",
       "rating    float64\n",
       "votes      object\n",
       "dtype: object"
      ]
     },
     "execution_count": 40,
     "metadata": {},
     "output_type": "execute_result"
    }
   ],
   "source": [
    "df_movies.dtypes"
   ]
  },
  {
   "cell_type": "markdown",
   "metadata": {
    "id": "LGgU9bGBZLoU"
   },
   "source": [
    "La cantidad de votos de la pelicula nos mide la popularidad parece que ademas de ser de tipo str la separación de la coma esta mal en algunos casos, deberia ser de tipo int, procese la columna 'votes' para eliminar la coma y que ademas sea de tipo int.\n",
    "\n",
    "La calificación ya esta de tipo numerico (float64), por lo que no tenemos que hacerle nada"
   ]
  },
  {
   "cell_type": "code",
   "execution_count": 41,
   "metadata": {
    "id": "fLnpaujCZJDV"
   },
   "outputs": [],
   "source": [
    "#Ej para eliminar texto indeseado:\n",
    "#df['column_name'] = df_movies['column_name'].str.replace('texto','')\n",
    "#Ej para pasar a entero una columna tipo obj:\n",
    "#df['column_name'] = df_movies['column_name'].astype(int)\n",
    "#Pasará a int si el obj solo tiene números, de lo contrario se generará error\n",
    "df_movies['votes'] = df_movies['votes'].str.replace('[,,$,M]', '', regex=True)\n",
    "df_movies['votes'] = df_movies['votes'].astype(float)"
   ]
  },
  {
   "cell_type": "markdown",
   "metadata": {
    "id": "5wT3ncJka5Rq"
   },
   "source": [
    "Los actores principalesles se encuentran en la columna star, ajuste la columna para que solo quede el primero de la lista (Comunmente el primero es el protagonista)"
   ]
  },
  {
   "cell_type": "code",
   "execution_count": 42,
   "metadata": {
    "id": "lYkdTf6VaYWL"
   },
   "outputs": [
    {
     "data": {
      "text/html": [
       "<div>\n",
       "<style scoped>\n",
       "    .dataframe tbody tr th:only-of-type {\n",
       "        vertical-align: middle;\n",
       "    }\n",
       "\n",
       "    .dataframe tbody tr th {\n",
       "        vertical-align: top;\n",
       "    }\n",
       "\n",
       "    .dataframe thead th {\n",
       "        text-align: right;\n",
       "    }\n",
       "</style>\n",
       "<table border=\"1\" class=\"dataframe\">\n",
       "  <thead>\n",
       "    <tr style=\"text-align: right;\">\n",
       "      <th></th>\n",
       "      <th>movie</th>\n",
       "      <th>stars</th>\n",
       "      <th>rating</th>\n",
       "      <th>votes</th>\n",
       "    </tr>\n",
       "  </thead>\n",
       "  <tbody>\n",
       "    <tr>\n",
       "      <th>47690</th>\n",
       "      <td>The Royal Mob</td>\n",
       "      <td>Josie Dunn Evan Milton Mark Edel-Hunt Phoebe M...</td>\n",
       "      <td>8.3</td>\n",
       "      <td>62.0</td>\n",
       "    </tr>\n",
       "    <tr>\n",
       "      <th>100626</th>\n",
       "      <td>The Big Red Bastard</td>\n",
       "      <td>Ella Anderson Sheldon Bailey Cooper Barnes Liz...</td>\n",
       "      <td>8.2</td>\n",
       "      <td>52.0</td>\n",
       "    </tr>\n",
       "    <tr>\n",
       "      <th>124001</th>\n",
       "      <td>Whistling Hills</td>\n",
       "      <td>Johnny Mack Brown James Ellison Noel Neill I. ...</td>\n",
       "      <td>6.6</td>\n",
       "      <td>41.0</td>\n",
       "    </tr>\n",
       "    <tr>\n",
       "      <th>73126</th>\n",
       "      <td>Shookum Hills</td>\n",
       "      <td>Alicia Sanz Adan Canto Will Patton Zach Avery</td>\n",
       "      <td>4.3</td>\n",
       "      <td>5174.0</td>\n",
       "    </tr>\n",
       "    <tr>\n",
       "      <th>47174</th>\n",
       "      <td>Perfect Bid: The Contestant Who Knew Too Much</td>\n",
       "      <td>Theodore Slauson Roger Dobkowitz Bob Barker Br...</td>\n",
       "      <td>6.5</td>\n",
       "      <td>3114.0</td>\n",
       "    </tr>\n",
       "  </tbody>\n",
       "</table>\n",
       "</div>"
      ],
      "text/plain": [
       "                                                movie  \\\n",
       "47690                                   The Royal Mob   \n",
       "100626                            The Big Red Bastard   \n",
       "124001                                Whistling Hills   \n",
       "73126                                   Shookum Hills   \n",
       "47174   Perfect Bid: The Contestant Who Knew Too Much   \n",
       "\n",
       "                                                    stars  rating   votes  \n",
       "47690   Josie Dunn Evan Milton Mark Edel-Hunt Phoebe M...     8.3    62.0  \n",
       "100626  Ella Anderson Sheldon Bailey Cooper Barnes Liz...     8.2    52.0  \n",
       "124001  Johnny Mack Brown James Ellison Noel Neill I. ...     6.6    41.0  \n",
       "73126       Alicia Sanz Adan Canto Will Patton Zach Avery     4.3  5174.0  \n",
       "47174   Theodore Slauson Roger Dobkowitz Bob Barker Br...     6.5  3114.0  "
      ]
     },
     "execution_count": 42,
     "metadata": {},
     "output_type": "execute_result"
    }
   ],
   "source": [
    "#Evalua el texto y lo entiende como una lista\n",
    "#df['column_name'] = df_movies['columns_name'].apply(eval)\n",
    "#Toma el primer elemento de la lista, lo aplica para todas las filas\n",
    "#df['column_name'] = df_movies['columns_name'].apply(lambda x: x[0])\n",
    "df_movies['stars'] = df_movies['stars'].str.replace(',','')\n",
    "df_movies['stars'] = df_movies['stars'].apply(lambda x: eval(x)[0] if isinstance(x, str) else x)\n",
    "df_movies.sample(5)"
   ]
  },
  {
   "cell_type": "markdown",
   "metadata": {
    "id": "lMVK8lRjbaxB"
   },
   "source": [
    "Un ejemplo de cómo debería quedar el DataFrame es:\n",
    "\n",
    "|movie            |stars    |   rating | votes    |\n",
    "|----------------:|:--------|---------:|:---------|\n",
    "| The Witcher                                 | Henry Cavill | 8.1 | 539085 |\n",
    "| Mission: Impossible - Dead Reckoning Part One | Tom Cruise,| 8.0 | 106759 |\n",
    "| Sound of Freedom                              | Jim Caviezel | 7.9 | 41808 |\n",
    "| Secret Invasion                           | Samuel L. Jackson| 6.2 | 40536 |"
   ]
  },
  {
   "cell_type": "markdown",
   "metadata": {
    "id": "azf4ERe4qdk1"
   },
   "source": [
    "Revise las distrfibuciones de la cantidad de votos, pueden haber valores atipivos, si los hay eliminelos."
   ]
  },
  {
   "cell_type": "markdown",
   "metadata": {
    "id": "UWYKi5yhe06D"
   },
   "source": [
    "## Agrupamiento por actor principal\n",
    "\n",
    "Con la ayuda de la función DataFrame.groupby.agg agrupe el dataframe por actor principal y saque el número de peliculas del actor, el valor promedio de calificaciones y el valor promedio de votos.\n",
    "\n",
    "Ordene de forma (Auyda de la función DataFrame.sort_values) descendente el rating promedio y luego por el número de votos promedio y luego por el número de peliculas\n",
    "\n",
    "Saque sus propias conclusiones"
   ]
  },
  {
   "cell_type": "code",
   "execution_count": 47,
   "metadata": {
    "id": "Tq9srma6gZck"
   },
   "outputs": [],
   "source": [
    "df_stars = df_movies.groupby('stars', as_index=False).agg({'movie':'count', 'rating':'mean', 'votes':'mean'})"
   ]
  },
  {
   "cell_type": "code",
   "execution_count": 48,
   "metadata": {
    "id": "3jS2Hmb8cdoE"
   },
   "outputs": [
    {
     "data": {
      "text/html": [
       "<div>\n",
       "<style scoped>\n",
       "    .dataframe tbody tr th:only-of-type {\n",
       "        vertical-align: middle;\n",
       "    }\n",
       "\n",
       "    .dataframe tbody tr th {\n",
       "        vertical-align: top;\n",
       "    }\n",
       "\n",
       "    .dataframe thead th {\n",
       "        text-align: right;\n",
       "    }\n",
       "</style>\n",
       "<table border=\"1\" class=\"dataframe\">\n",
       "  <thead>\n",
       "    <tr style=\"text-align: right;\">\n",
       "      <th></th>\n",
       "      <th>stars</th>\n",
       "      <th>movie</th>\n",
       "      <th>rating</th>\n",
       "      <th>votes</th>\n",
       "    </tr>\n",
       "  </thead>\n",
       "  <tbody>\n",
       "    <tr>\n",
       "      <th>69170</th>\n",
       "      <td>Mel Blanc</td>\n",
       "      <td>51</td>\n",
       "      <td>7.192157</td>\n",
       "      <td>1342.843137</td>\n",
       "    </tr>\n",
       "    <tr>\n",
       "      <th>76209</th>\n",
       "      <td>Nobuyo Ôyama Noriko Ohara Michiko Nomura Kanet...</td>\n",
       "      <td>19</td>\n",
       "      <td>6.894737</td>\n",
       "      <td>462.736842</td>\n",
       "    </tr>\n",
       "    <tr>\n",
       "      <th>73487</th>\n",
       "      <td>Murray Cook Jeff Fatt Anthony Field Greg Page</td>\n",
       "      <td>18</td>\n",
       "      <td>7.738889</td>\n",
       "      <td>84.611111</td>\n",
       "    </tr>\n",
       "    <tr>\n",
       "      <th>82624</th>\n",
       "      <td>Ray Corrigan John 'Dusty' King Max Terhune Elmer</td>\n",
       "      <td>15</td>\n",
       "      <td>6.006667</td>\n",
       "      <td>78.800000</td>\n",
       "    </tr>\n",
       "    <tr>\n",
       "      <th>9102</th>\n",
       "      <td>BTS j-hope Jimin Jin</td>\n",
       "      <td>15</td>\n",
       "      <td>8.613333</td>\n",
       "      <td>279.100667</td>\n",
       "    </tr>\n",
       "    <tr>\n",
       "      <th>87792</th>\n",
       "      <td>Roy Rogers Trigger George 'Gabby' Hayes Dale E...</td>\n",
       "      <td>14</td>\n",
       "      <td>6.092857</td>\n",
       "      <td>199.857143</td>\n",
       "    </tr>\n",
       "    <tr>\n",
       "      <th>23328</th>\n",
       "      <td>David Attenborough</td>\n",
       "      <td>14</td>\n",
       "      <td>8.657143</td>\n",
       "      <td>5720.857143</td>\n",
       "    </tr>\n",
       "    <tr>\n",
       "      <th>69173</th>\n",
       "      <td>Mel Blanc Arthur Q. Bryan</td>\n",
       "      <td>12</td>\n",
       "      <td>7.566667</td>\n",
       "      <td>2825.083333</td>\n",
       "    </tr>\n",
       "    <tr>\n",
       "      <th>32958</th>\n",
       "      <td>Frank Welker Mindy Cohn Grey Griffin Matthew L...</td>\n",
       "      <td>11</td>\n",
       "      <td>6.854545</td>\n",
       "      <td>4546.363636</td>\n",
       "    </tr>\n",
       "    <tr>\n",
       "      <th>32932</th>\n",
       "      <td>Frank Welker Casey Kasem Mindy Cohn Grey Griffin</td>\n",
       "      <td>11</td>\n",
       "      <td>6.572727</td>\n",
       "      <td>4547.000000</td>\n",
       "    </tr>\n",
       "  </tbody>\n",
       "</table>\n",
       "</div>"
      ],
      "text/plain": [
       "                                                   stars  movie    rating  \\\n",
       "69170                                          Mel Blanc     51  7.192157   \n",
       "76209  Nobuyo Ôyama Noriko Ohara Michiko Nomura Kanet...     19  6.894737   \n",
       "73487      Murray Cook Jeff Fatt Anthony Field Greg Page     18  7.738889   \n",
       "82624   Ray Corrigan John 'Dusty' King Max Terhune Elmer     15  6.006667   \n",
       "9102                                BTS j-hope Jimin Jin     15  8.613333   \n",
       "87792  Roy Rogers Trigger George 'Gabby' Hayes Dale E...     14  6.092857   \n",
       "23328                                 David Attenborough     14  8.657143   \n",
       "69173                          Mel Blanc Arthur Q. Bryan     12  7.566667   \n",
       "32958  Frank Welker Mindy Cohn Grey Griffin Matthew L...     11  6.854545   \n",
       "32932   Frank Welker Casey Kasem Mindy Cohn Grey Griffin     11  6.572727   \n",
       "\n",
       "             votes  \n",
       "69170  1342.843137  \n",
       "76209   462.736842  \n",
       "73487    84.611111  \n",
       "82624    78.800000  \n",
       "9102    279.100667  \n",
       "87792   199.857143  \n",
       "23328  5720.857143  \n",
       "69173  2825.083333  \n",
       "32958  4546.363636  \n",
       "32932  4547.000000  "
      ]
     },
     "execution_count": 48,
     "metadata": {},
     "output_type": "execute_result"
    }
   ],
   "source": [
    "# Ordenando descendente por número de peliculas\n",
    "df_stars.sort_values('movie', ascending=False).head(10)"
   ]
  },
  {
   "cell_type": "code",
   "execution_count": null,
   "metadata": {
    "id": "lybuc-v3jGl9"
   },
   "outputs": [],
   "source": []
  },
  {
   "cell_type": "code",
   "execution_count": null,
   "metadata": {},
   "outputs": [],
   "source": []
  },
  {
   "cell_type": "code",
   "execution_count": null,
   "metadata": {},
   "outputs": [],
   "source": []
  }
 ],
 "metadata": {
  "colab": {
   "provenance": []
  },
  "kernelspec": {
   "display_name": "Python 3 (ipykernel)",
   "language": "python",
   "name": "python3"
  },
  "language_info": {
   "codemirror_mode": {
    "name": "ipython",
    "version": 3
   },
   "file_extension": ".py",
   "mimetype": "text/x-python",
   "name": "python",
   "nbconvert_exporter": "python",
   "pygments_lexer": "ipython3",
   "version": "3.9.13"
  }
 },
 "nbformat": 4,
 "nbformat_minor": 1
}
