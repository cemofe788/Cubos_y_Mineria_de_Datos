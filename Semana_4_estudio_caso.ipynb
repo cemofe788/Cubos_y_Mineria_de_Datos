{
  "nbformat": 4,
  "nbformat_minor": 0,
  "metadata": {
    "colab": {
      "provenance": []
    },
    "kernelspec": {
      "name": "python3",
      "display_name": "Python 3"
    },
    "language_info": {
      "name": "python"
    }
  },
  "cells": [
    {
      "cell_type": "markdown",
      "source": [
        "## Estudio de caso\n",
        "Se presenta un dataset de nombres de peliculas con sus respetivos genero, actores principales, calificaciones, popularidad entre otros.\n",
        "\n",
        "Se requiere integrar y tranformar los datos necesarios para poder medir el impacto que tienen los actores principales al momento de evaluar la popularidad y la calificación de la pelicula.\n",
        "\n",
        "El estudio de caso consiste en que describa en forma detallada el proceso como llegó a medir el impacto que tienen los actores principales en el exito de una pelicula"
      ],
      "metadata": {
        "id": "FQy-RI_iOsaY"
      }
    },
    {
      "cell_type": "markdown",
      "source": [
        "### Imports\n",
        "Librerias base que se necesitan, puede incluir más de ser necesario"
      ],
      "metadata": {
        "id": "ol1tPxcNQ7xG"
      }
    },
    {
      "cell_type": "code",
      "source": [
        "import pandas as pd"
      ],
      "metadata": {
        "id": "gpMfu_wQQ5mY"
      },
      "execution_count": 2,
      "outputs": []
    },
    {
      "cell_type": "markdown",
      "source": [
        "## Descarga de dataset\n",
        "Tomado de Kaggle: [TV & Movie Metadata with Genres and Ratings (2023)](https://www.kaggle.com/datasets/gayu14/tv-and-movie-metadata-with-genres-and-ratings-imbd)\\\n",
        "Alojado en datalake Bucket de S3 de AWS"
      ],
      "metadata": {
        "id": "N47EwIVjRJe7"
      }
    },
    {
      "cell_type": "code",
      "source": [
        "df_movies = pd.read_csv('https://uniminuto-data.s3.amazonaws.com/IMBD.csv')\n",
        "print(f'Tamaño del dataset: {len(df_movies)}')"
      ],
      "metadata": {
        "id": "qKiFWvXnRIbP"
      },
      "execution_count": null,
      "outputs": []
    },
    {
      "cell_type": "code",
      "source": [
        "# visualización de una muestra de 5 peliculas\n",
        "df_movies.sample(5)"
      ],
      "metadata": {
        "id": "7nh9LWGxSKgL"
      },
      "execution_count": null,
      "outputs": []
    },
    {
      "cell_type": "markdown",
      "source": [
        "Primero que todo identifique las columnas que nos interesan para el estudio de caso.\n",
        "- Recuerde que para medir el impacto que tienen los actores en el exito de la pelicula nos vamos a basar en la popularidad y la calificación."
      ],
      "metadata": {
        "id": "uZn23cV4TuM7"
      }
    },
    {
      "cell_type": "code",
      "source": [
        "# Ingrese en la lista las columnas necesarias para el caso de estudio:\n",
        "columns = ['movie', 'stars', 'rating', 'votes']"
      ],
      "metadata": {
        "id": "vfT20o8CSsgP"
      },
      "execution_count": 5,
      "outputs": []
    },
    {
      "cell_type": "code",
      "source": [
        "# Guarde el datset, con solo las columnas necesarias, ej:\n",
        "# df_movies = df_movies[columns].copy()\n",
        "df_movies = df_movies[columns].copy()\n",
        "df_movies.sample(5)"
      ],
      "metadata": {
        "id": "uEKb0aN2VQzk"
      },
      "execution_count": null,
      "outputs": []
    },
    {
      "cell_type": "code",
      "source": [
        "# Descripción del dataframe\n",
        "df_movies.describe(include='all')"
      ],
      "metadata": {
        "id": "yws7UA22X4-M"
      },
      "execution_count": null,
      "outputs": []
    },
    {
      "cell_type": "markdown",
      "source": [
        "### Elimine datos faltantes\n",
        "Con la ayuda de la función DataFrame.dropna elimine los valores NAN, no nos interesan las peliculas que tienen datos faltantes en nuestrtas columnas importantes"
      ],
      "metadata": {
        "id": "G1i4MjbFYxkX"
      }
    },
    {
      "cell_type": "code",
      "source": [
        "df_movies = # Digite el codigo aca"
      ],
      "metadata": {
        "id": "oxfcyggLVvWL"
      },
      "execution_count": null,
      "outputs": []
    },
    {
      "cell_type": "markdown",
      "source": [
        "## Tipos de datos"
      ],
      "metadata": {
        "id": "vHFv8076Y_0M"
      }
    },
    {
      "cell_type": "code",
      "source": [
        "df_movies.dtypes"
      ],
      "metadata": {
        "id": "Bhifca38W8_K"
      },
      "execution_count": null,
      "outputs": []
    },
    {
      "cell_type": "markdown",
      "source": [
        "La cantidad de votos de la pelicula nos mide la popularidad parece que ademas de ser de tipo str la separación de la coma esta mal en algunos casos, deberia ser de tipo int, procese la columna 'votes' para eliminar la coma y que ademas sea de tipo int.\n",
        "\n",
        "La calificación ya esta de tipo numerico (float64), por lo que no tenemos que hacerle nada"
      ],
      "metadata": {
        "id": "LGgU9bGBZLoU"
      }
    },
    {
      "cell_type": "code",
      "source": [
        "#Ej para eliminar texto indeseado:\n",
        "#df['column_name'] = df_movies['column_name'].str.replace('texto','')\n",
        "#Ej para pasar a entero una columna tipo obj:\n",
        "#df['column_name'] = df_movies['column_name'].astype(int)\n",
        "#Pasará a int si el obj solo tiene números, de lo contrario se generará error\n",
        "\n",
        "df_movies['votes'] = # Digite el cidigo aquí. Puede ser mas de una linea de código."
      ],
      "metadata": {
        "id": "fLnpaujCZJDV"
      },
      "execution_count": null,
      "outputs": []
    },
    {
      "cell_type": "markdown",
      "source": [
        "Los actores principalesles se encuentran en la columna star, ajuste la columna para que solo quede el primero de la lista (Comunmente el primero es el protagonista)"
      ],
      "metadata": {
        "id": "5wT3ncJka5Rq"
      }
    },
    {
      "cell_type": "code",
      "source": [
        "#Evalua el texto y lo entiende como una lista\n",
        "#df['column_name'] = df_movies['columns_name'].apply(eval)\n",
        "#Toma el primer elemento de la lista, lo aplica para todas las filas\n",
        "#df['column_name'] = df_movies['columns_name'].apply(lambda x: x[0])\n",
        "df_movies['star'] = # Digite el cidigo aquí. Puede ser mas de una linea de código."
      ],
      "metadata": {
        "id": "lYkdTf6VaYWL"
      },
      "execution_count": null,
      "outputs": []
    },
    {
      "cell_type": "markdown",
      "source": [
        "Un ejemplo de cómo debería quedar el DataFrame es:\n",
        "\n",
        "|movie            |stars    |   rating | votes    |\n",
        "|----------------:|:--------|---------:|:---------|\n",
        "| The Witcher                                 | Henry Cavill | 8.1 | 539085 |\n",
        "| Mission: Impossible - Dead Reckoning Part One | Tom Cruise,| 8.0 | 106759 |\n",
        "| Sound of Freedom                              | Jim Caviezel | 7.9 | 41808 |\n",
        "| Secret Invasion                           | Samuel L. Jackson| 6.2 | 40536 |"
      ],
      "metadata": {
        "id": "lMVK8lRjbaxB"
      }
    },
    {
      "cell_type": "markdown",
      "source": [
        "Revise las distrfibuciones de la cantidad de votos, pueden haber valores atipivos, si los hay eliminelos."
      ],
      "metadata": {
        "id": "azf4ERe4qdk1"
      }
    },
    {
      "cell_type": "markdown",
      "source": [
        "## Agrupamiento por actor principal\n",
        "\n",
        "Con la ayuda de la función DataFrame.groupby.agg agrupe el dataframe por actor principal y saque el número de peliculas del actor, el valor promedio de calificaciones y el valor promedio de votos.\n",
        "\n",
        "Ordene de forma (Auyda de la función DataFrame.sort_values) descendente el rating promedio y luego por el número de votos promedio y luego por el número de peliculas\n",
        "\n",
        "Saque sus propias conclusiones"
      ],
      "metadata": {
        "id": "UWYKi5yhe06D"
      }
    },
    {
      "cell_type": "code",
      "source": [
        "df_stars = df_movies.groupby('stars', as_index=False).agg({'movie':'count', 'rating':'mean', 'votes':'mean'})"
      ],
      "metadata": {
        "id": "Tq9srma6gZck"
      },
      "execution_count": 25,
      "outputs": []
    },
    {
      "cell_type": "code",
      "source": [
        "# Ordenando descendente por número de peliculas\n",
        "df_stars.sort_values('movie', ascending=False).head(10)"
      ],
      "metadata": {
        "id": "3jS2Hmb8cdoE"
      },
      "execution_count": null,
      "outputs": []
    },
    {
      "cell_type": "code",
      "source": [],
      "metadata": {
        "id": "lybuc-v3jGl9"
      },
      "execution_count": null,
      "outputs": []
    }
  ]
}